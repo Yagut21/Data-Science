{
  "nbformat": 4,
  "nbformat_minor": 0,
  "metadata": {
    "colab": {
      "provenance": []
    },
    "kernelspec": {
      "name": "python3",
      "display_name": "Python 3"
    },
    "language_info": {
      "name": "python"
    }
  },
  "cells": [
    {
      "cell_type": "markdown",
      "metadata": {
        "id": "view-in-github"
      },
      "source": [
        "<a href=\"https://colab.research.google.com/github/ogut77/DataScience/blob/main/Homework1.ipynb\" target=\"_parent\"><img src=\"https://colab.research.google.com/assets/colab-badge.svg\" alt=\"Open In Colab\"/></a>"
      ]
    },
    {
      "cell_type": "code",
      "execution_count": 38,
      "metadata": {
        "colab": {
          "base_uri": "https://localhost:8080/"
        },
        "id": "jrVeHsm1rpdT",
        "outputId": "e469c2b6-9883-4b42-ba2c-ab5561af3e95"
      },
      "outputs": [
        {
          "output_type": "stream",
          "name": "stdout",
          "text": [
            "What is your name? Yagut\n",
            "What is your age? 21\n",
            "Your name is Yagut. Your age is 21\n"
          ]
        }
      ],
      "source": [
        "#Q1-Get your name and age as input and print it in the form like\n",
        "#Your name is Hulisi. Your age is 43\n",
        "name=input('What is your name? ')\n",
        "age=input('What is your age? ')\n",
        "print(f'Your name is {name}. Your age is {age}')"
      ]
    },
    {
      "cell_type": "code",
      "source": [
        "#Q2-Write a if statement for a given two number is equal or not\n",
        "a=43\n",
        "b=54\n",
        "if a==b:\n",
        "  print(\"a and b are equal\")\n",
        "else:\n",
        "  print(\"a and b are not equal\")"
      ],
      "metadata": {
        "id": "7Sfg03_PuVWa",
        "colab": {
          "base_uri": "https://localhost:8080/"
        },
        "outputId": "44a14330-7ae9-484f-b490-882df0f960bb"
      },
      "execution_count": 5,
      "outputs": [
        {
          "output_type": "stream",
          "name": "stdout",
          "text": [
            "a and b are not equal\n"
          ]
        }
      ]
    },
    {
      "cell_type": "code",
      "source": [
        "#Q3-Write a if statement for first number is greater (a), equal or less than second number.(b)\n",
        "a=43\n",
        "b=54\n",
        "if a>b:\n",
        "  # (a)\n",
        "  print('a is greater than b')\n",
        "else:\n",
        "  # (b)\n",
        "  print('a is equal or less than b')\n"
      ],
      "metadata": {
        "id": "NtUibZ07u5gs",
        "colab": {
          "base_uri": "https://localhost:8080/"
        },
        "outputId": "8a4641c7-c211-406b-f251-c30ba6b402b6"
      },
      "execution_count": 99,
      "outputs": [
        {
          "output_type": "stream",
          "name": "stdout",
          "text": [
            "a is equal or less than b\n"
          ]
        }
      ]
    },
    {
      "cell_type": "code",
      "source": [
        "#Q4- Using for loop, print 1,2,3,4,5\n",
        "for k in range(1,6):\n",
        "  print(k)"
      ],
      "metadata": {
        "id": "U1UMQv36wNHP",
        "colab": {
          "base_uri": "https://localhost:8080/"
        },
        "outputId": "3bd6f2b7-7313-4639-b361-80cc0e253849"
      },
      "execution_count": 9,
      "outputs": [
        {
          "output_type": "stream",
          "name": "stdout",
          "text": [
            "1\n",
            "2\n",
            "3\n",
            "4\n",
            "5\n"
          ]
        }
      ]
    },
    {
      "cell_type": "code",
      "source": [
        "#Q5-Using while loop, print 5,4,3,2,1\n",
        "x = 5\n",
        "while x>0:\n",
        "  print(x)\n",
        "  x -= 1"
      ],
      "metadata": {
        "id": "bh5Lga7XxGY8",
        "colab": {
          "base_uri": "https://localhost:8080/"
        },
        "outputId": "22ea0b38-20eb-40ff-a4fb-5a2bfc2b8cd5"
      },
      "execution_count": 15,
      "outputs": [
        {
          "output_type": "stream",
          "name": "stdout",
          "text": [
            "5\n",
            "4\n",
            "3\n",
            "2\n",
            "1\n"
          ]
        }
      ]
    },
    {
      "cell_type": "code",
      "source": [
        "#Q6- Using for loop, print 10,6,4,2,0\n",
        "#Hint Print if number is not equal to 8.\n",
        "print(\"Solution 1\")\n",
        "for k in range(0,11):\n",
        "  num=10-k\n",
        "  if num%2==0 and num!=8:\n",
        "    print(num)\n",
        "\n",
        "print()\n",
        "print(\"Solution 2\")\n",
        "for k in range(10,-1,-2):\n",
        "  if k!=8:\n",
        "    print(k)"
      ],
      "metadata": {
        "id": "cXTTDS49xSoi",
        "colab": {
          "base_uri": "https://localhost:8080/"
        },
        "outputId": "3466326a-7e18-433f-f510-511c31797b91"
      },
      "execution_count": 96,
      "outputs": [
        {
          "output_type": "stream",
          "name": "stdout",
          "text": [
            "Solution 1\n",
            "10\n",
            "6\n",
            "4\n",
            "2\n",
            "0\n",
            "\n",
            "Solution 2\n",
            "10\n",
            "6\n",
            "4\n",
            "2\n",
            "0\n"
          ]
        }
      ]
    },
    {
      "cell_type": "code",
      "source": [
        "#Q7-Write a method to calculate age for a given date of birth year.\n",
        "#Use this method on orer to calculate age of person if date of birth is 1944\n",
        "# if age is the name of function, print(age(1944))\n",
        "def age(year):\n",
        "  return 2025 - year\n",
        "\n",
        "print(age(1944))"
      ],
      "metadata": {
        "id": "geUjb-vuyYbF",
        "colab": {
          "base_uri": "https://localhost:8080/"
        },
        "outputId": "ce09e76d-2c7b-4305-8212-1384e0fe3635"
      },
      "execution_count": 51,
      "outputs": [
        {
          "output_type": "stream",
          "name": "stdout",
          "text": [
            "81\n"
          ]
        }
      ]
    },
    {
      "cell_type": "code",
      "source": [
        "#Q8-Write a class named arithmetic with method for calculating addition, substraction, multiplication and division of two numbers.\n",
        "class arithmetic:\n",
        "  def addition(x,y):\n",
        "    return x+y\n",
        "\n",
        "  def substraction(x,y):\n",
        "    return x-y\n",
        "\n",
        "  def multiplication(x,y):\n",
        "    return x*y\n",
        "\n",
        "  def division(x,y):\n",
        "    return x/y\n",
        "\n",
        "print(arithmetic.addition(3,4))\n",
        "print(arithmetic.substraction(3,4))\n",
        "print(arithmetic.multiplication(3,4))\n",
        "print(arithmetic.division(3,4))"
      ],
      "metadata": {
        "id": "YcyFzE3fzC7_",
        "outputId": "0eaf6346-7f89-4bc5-a51b-101e648df20f",
        "colab": {
          "base_uri": "https://localhost:8080/"
        }
      },
      "execution_count": 60,
      "outputs": [
        {
          "output_type": "stream",
          "name": "stdout",
          "text": [
            "7\n",
            "-1\n",
            "12\n",
            "0.75\n"
          ]
        }
      ]
    },
    {
      "cell_type": "code",
      "source": [
        "#Q9- write a for loop or method  to calculate summation of first n numbers\n",
        "#i.e if n=3, it will print or return 6 (1+2+3)\n",
        "print('Solution 1')\n",
        "def sum_of_n1(n):\n",
        "  x = 0\n",
        "  for k in range(1,n+1):\n",
        "    x+=k\n",
        "  return x\n",
        "print(sum_of_n1(3))\n",
        "\n",
        "print()\n",
        "print('Solution 2')\n",
        "def sum_of_n2(n):\n",
        "  return int(n*(n+1)/2)\n",
        "print(sum_of_n2(5))"
      ],
      "metadata": {
        "id": "AUJWr5YqzadI",
        "colab": {
          "base_uri": "https://localhost:8080/"
        },
        "outputId": "01712485-3afb-439b-d2cf-257bf106e112"
      },
      "execution_count": 95,
      "outputs": [
        {
          "output_type": "stream",
          "name": "stdout",
          "text": [
            "Solution 1\n",
            "6\n",
            "\n",
            "Solution 2\n",
            "15\n"
          ]
        }
      ]
    },
    {
      "cell_type": "code",
      "source": [
        "#Q10-Generate 10 numbers between 0 and 1 and add into list. Print first three elements of that list.\n",
        "from numpy import random\n",
        "\n",
        "list1=[]\n",
        "for k in range(0,10):\n",
        "  list1.append(random.rand())\n",
        "\n",
        "print(list1)\n",
        "print(list1[0:3])"
      ],
      "metadata": {
        "id": "hmtvJdCL02qx",
        "colab": {
          "base_uri": "https://localhost:8080/"
        },
        "outputId": "2576d962-4236-4d27-cec6-c2b5f8e130c3"
      },
      "execution_count": 98,
      "outputs": [
        {
          "output_type": "stream",
          "name": "stdout",
          "text": [
            "[0.6632685348824647, 0.3441354099172437, 0.31222812278092316, 0.8964825950962295, 0.36650701585505285, 0.7021015006600057, 0.9089566251582646, 0.75167572528767, 0.0877003706339109, 0.717983065920101]\n",
            "[0.6632685348824647, 0.3441354099172437, 0.31222812278092316]\n"
          ]
        }
      ]
    },
    {
      "cell_type": "code",
      "source": [
        "#Q11-For a given number n, print numbers divisible by 3 up to that number(n included)\n",
        "#Example: if n=15, print 3,6,9,12,15\n",
        "#Hint you can use modulus statement (if (i%3==0))\n",
        "def div(n):\n",
        "  for k in range(1,n+1):\n",
        "    if k%3==0:\n",
        "      print(k)\n",
        "div(15)"
      ],
      "metadata": {
        "id": "5O6Y2CujcAAs",
        "outputId": "d4715a8f-935f-41ed-b0f0-788b71fcd9a9",
        "colab": {
          "base_uri": "https://localhost:8080/"
        }
      },
      "execution_count": 93,
      "outputs": [
        {
          "output_type": "stream",
          "name": "stdout",
          "text": [
            "3\n",
            "6\n",
            "9\n",
            "12\n",
            "15\n"
          ]
        }
      ]
    }
  ]
}